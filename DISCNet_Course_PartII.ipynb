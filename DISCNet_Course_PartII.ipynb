{
 "cells": [
  {
   "cell_type": "code",
   "execution_count": 309,
   "metadata": {},
   "outputs": [],
   "source": [
    "from notebook.services.config import ConfigManager\n",
    "cm = ConfigManager()\n",
    "cm.update('livereveal', {\n",
    "        'width': 1024,\n",
    "        'height': 768,\n",
    "        'scroll': True,\n",
    "})\n",
    "import pandas as pd\n",
    "import pylab as plt\n",
    "import pystan\n",
    "import seaborn as sns\n",
    "import numpy as np\n",
    "%matplotlib inline"
   ]
  },
  {
   "cell_type": "markdown",
   "metadata": {
    "slideshow": {
     "slide_type": "slide"
    }
   },
   "source": [
    "![](./assets/DJlogo_alpha.png?raw=true)<!-- .element height=\"80%\" width=\"80%\" -->\n",
    "\n",
    "<http://www.DataJavelin.com>\n",
    "## Dr Peter Hurley & Dr Phil Rooney"
   ]
  },
  {
   "cell_type": "markdown",
   "metadata": {
    "slideshow": {
     "slide_type": "subslide"
    }
   },
   "source": [
    "# Bayesian Data Analysis Workflow with Stan\n",
    "\n",
    "A good workflow for developing and testing models is essential!\n",
    "\n",
    "1. Model Building\n",
    "2. Model Inference\n",
    "3. Model Checking\n",
    "4. Model Improvment\n",
    "\n",
    "For more detailed information see [Bayesian Data Analysis](http://www.stat.columbia.edu/~gelman/book/) book by Andrew Gelman and co-authors and [Michael Betancourt's case study](https://betanalpha.github.io/assets/case_studies/principled_bayesian_workflow.html#1_bayesian_modeling_and_inference)"
   ]
  },
  {
   "cell_type": "markdown",
   "metadata": {
    "slideshow": {
     "slide_type": "subslide"
    }
   },
   "source": [
    "Lets go through steps with an example problem\n",
    "\n",
    "## CO$_2$ atmospheric concentration trend\n",
    "Data from [here](https://www.esrl.noaa.gov/gmd/ccgg/trends/)"
   ]
  },
  {
   "cell_type": "code",
   "execution_count": 69,
   "metadata": {
    "slideshow": {
     "slide_type": "fragment"
    }
   },
   "outputs": [
    {
     "data": {
      "text/html": [
       "<div>\n",
       "<style scoped>\n",
       "    .dataframe tbody tr th:only-of-type {\n",
       "        vertical-align: middle;\n",
       "    }\n",
       "\n",
       "    .dataframe tbody tr th {\n",
       "        vertical-align: top;\n",
       "    }\n",
       "\n",
       "    .dataframe thead th {\n",
       "        text-align: right;\n",
       "    }\n",
       "</style>\n",
       "<table border=\"1\" class=\"dataframe\">\n",
       "  <thead>\n",
       "    <tr style=\"text-align: right;\">\n",
       "      <th></th>\n",
       "      <th>year</th>\n",
       "      <th>mean</th>\n",
       "      <th>unc</th>\n",
       "    </tr>\n",
       "  </thead>\n",
       "  <tbody>\n",
       "    <tr>\n",
       "      <th>0</th>\n",
       "      <td>1959</td>\n",
       "      <td>315.97</td>\n",
       "      <td>0.12</td>\n",
       "    </tr>\n",
       "    <tr>\n",
       "      <th>1</th>\n",
       "      <td>1960</td>\n",
       "      <td>316.91</td>\n",
       "      <td>0.12</td>\n",
       "    </tr>\n",
       "    <tr>\n",
       "      <th>2</th>\n",
       "      <td>1961</td>\n",
       "      <td>317.64</td>\n",
       "      <td>0.12</td>\n",
       "    </tr>\n",
       "    <tr>\n",
       "      <th>3</th>\n",
       "      <td>1962</td>\n",
       "      <td>318.45</td>\n",
       "      <td>0.12</td>\n",
       "    </tr>\n",
       "    <tr>\n",
       "      <th>4</th>\n",
       "      <td>1963</td>\n",
       "      <td>318.99</td>\n",
       "      <td>0.12</td>\n",
       "    </tr>\n",
       "  </tbody>\n",
       "</table>\n",
       "</div>"
      ],
      "text/plain": [
       "   year    mean   unc\n",
       "0  1959  315.97  0.12\n",
       "1  1960  316.91  0.12\n",
       "2  1961  317.64  0.12\n",
       "3  1962  318.45  0.12\n",
       "4  1963  318.99  0.12"
      ]
     },
     "execution_count": 69,
     "metadata": {},
     "output_type": "execute_result"
    }
   ],
   "source": [
    "data=pd.read_csv('co2_annmean_mlo.txt',header=56,sep='\\s+')\n",
    "data[0:5]"
   ]
  },
  {
   "cell_type": "code",
   "execution_count": 45,
   "metadata": {
    "slideshow": {
     "slide_type": "subslide"
    }
   },
   "outputs": [
    {
     "data": {
      "image/png": "[encoded data removed]",
      "text/plain": [
       "<Figure size 432x288 with 1 Axes>"
      ]
     },
     "metadata": {
      "needs_background": "light"
     },
     "output_type": "display_data"
    }
   ],
   "source": [
    "plt.plot(data['year'],data['mean'],'o')\n",
    "plt.xlim(1980,2020)\n",
    "plt.xlabel('Year');\n",
    "plt.ylabel('CO$_2$ (ppm)' );"
   ]
  },
  {
   "cell_type": "markdown",
   "metadata": {
    "slideshow": {
     "slide_type": "slide"
    }
   },
   "source": [
    "## Model Building\n"
   ]
  },
  {
   "cell_type": "markdown",
   "metadata": {
    "slideshow": {
     "slide_type": "subslide"
    }
   },
   "source": [
    "### Build generative model\n",
    "1. construct a probabilistic generative model of the observation process. \n",
    "2. generative observation model can be a crude approximation to the complexity of the true measurement process\n"
   ]
  },
  {
   "cell_type": "markdown",
   "metadata": {
    "slideshow": {
     "slide_type": "notes"
    }
   },
   "source": [
    "An ideal generative model will use mathematical functions to describe how an observation is produced based on a given model configuration. It is described as generative as it models how the data was generated (i.e. joint distribution)\n",
    "\n",
    "Crude approximations are often sufficient to answer even sophisticated questions. Still, we want to keep the approximate nature of our model in mind and consider also various extensions of the model, for example heterogeneities, time dependences, and other systematic effects.\n",
    "\n",
    "Often it is helpful to visualise the model via a probabilistic graphical model. These visualisations are a good way of understanding and showing how different variables relate and depend on each other. [Daft](http://daft-pgm.org/) is a good Python package for drawing PGMs."
   ]
  },
  {
   "cell_type": "markdown",
   "metadata": {
    "slideshow": {
     "slide_type": "subslide"
    }
   },
   "source": [
    "* $\\mathbf{years}$ = Years\n",
    "* $\\mathbf{conc}$ = CO$_2$ concentration\n",
    "* $\\mathbf{\\sigma_{conc}}$ = uncertainty on concentration\n",
    "\n",
    "$$\\mathbf{conc} = \\mathcal{N}(\\beta \\cdot \\mathbf{x} + \\alpha, \\mathbf{\\sigma_{conc}}^2)$$\n",
    "\n",
    "Priors:\n",
    "* $\\alpha \\sim \\mathcal{N}(0,100)$ \n",
    "* $\\beta \\sim \\mathcal{N}(0,3)$"
   ]
  },
  {
   "cell_type": "markdown",
   "metadata": {
    "slideshow": {
     "slide_type": "subslide"
    }
   },
   "source": [
    "### Writing the model in Stan\n",
    "* A Stan program is organized into a sequence of named blocks\n"
   ]
  },
  {
   "cell_type": "code",
   "execution_count": 46,
   "metadata": {
    "slideshow": {
     "slide_type": "fragment"
    }
   },
   "outputs": [],
   "source": [
    "example_model=\"\"\"functions {\n",
    "// ... function declarations and definitions ...\n",
    "}\n",
    "data {\n",
    "// ... declarations ...\n",
    "}\n",
    "transformed data {\n",
    "// ... declarations ... statements ...\n",
    "}\n",
    "parameters {\n",
    "// ... declarations ...\n",
    "} \n",
    "transformed parameters {\n",
    "// ... declarations ... statements ...}\n",
    "model {\n",
    "// ... declarations ... statements ...\n",
    "}\n",
    "generated quantities {\n",
    "// ... declarations ... statements ...\n",
    "}\n",
    "\"\"\""
   ]
  },
  {
   "cell_type": "markdown",
   "metadata": {
    "slideshow": {
     "slide_type": "subslide"
    }
   },
   "source": [
    "### Other things to note:\n",
    "* Add comments with `\\\\`\n",
    "* Sampling statements with `~`\n",
    "* Can print output with `print()`\n",
    "* `;` at end of each line\n",
    "\n",
    "\n",
    "Documentation for Stan: https://mc-stan.org/docs/2_19/stan-users-guide/index.html\n"
   ]
  },
  {
   "cell_type": "code",
   "execution_count": 148,
   "metadata": {
    "slideshow": {
     "slide_type": "subslide"
    }
   },
   "outputs": [],
   "source": [
    "co_model=\"\"\"\n",
    "data{\n",
    "int N;             //number of datapoints\n",
    "vector[N] co;      //co measurements\n",
    "vector[N] co_sig;  //uncertainty on co\n",
    "vector[N] year;    //year\n",
    "int fit;           //boolean for fitting\n",
    "}\n",
    "\n",
    "parameters{\n",
    "real alpha;       //intercept parameter\n",
    "real beta;        //slope parameter\n",
    "}\n",
    "\n",
    "model{\n",
    "alpha~normal(340,20); //prior on intercept\n",
    "beta~normal(0,4);    //prior on slope\n",
    "\n",
    "if (fit>0){\n",
    "co~normal(beta*year+alpha,co_sig); //fit co data\n",
    "}\n",
    "}\n",
    "generated quantities{\n",
    "real co_pred[N];\n",
    "co_pred=normal_rng(beta*year+alpha,co_sig); // generate replicated data\n",
    "}\n",
    "\n",
    "\"\"\""
   ]
  },
  {
   "cell_type": "code",
   "execution_count": 149,
   "metadata": {
    "slideshow": {
     "slide_type": "subslide"
    }
   },
   "outputs": [
    {
     "name": "stderr",
     "output_type": "stream",
     "text": [
      "INFO:pystan:COMPILING THE C++ CODE FOR MODEL anon_model_94b0321ffd8a6e386872166709a013f4 NOW.\n"
     ]
    }
   ],
   "source": [
    "sm=pystan.StanModel(model_code=co_model)"
   ]
  },
  {
   "cell_type": "markdown",
   "metadata": {
    "slideshow": {
     "slide_type": "subslide"
    }
   },
   "source": [
    "### Analyse the Generative Ensemble\n",
    "* Analyse a range of samples from generative model\n",
    "* Check outputs are realistic\n",
    "* Good way of checking model (especially priors) is behaving appropriately and how you expect"
   ]
  },
  {
   "cell_type": "markdown",
   "metadata": {
    "slideshow": {
     "slide_type": "notes"
    }
   },
   "source": [
    "Before drawing inferences from a real observation, we first want to analyse a range of samples from our generative model to check that the resulting carbon dioxide trend is realistic. This is a good way of checking that the prior distribution is sensible and the model is behaving approriately.\n",
    "\n",
    "To do that we first simulate parameters and observations from the complete generative model. We do this with the Python interface to Stan, PyStan.\n",
    "\n",
    "Simulating from the generative model allows us to see how our model and the prior choices we have made, affect the trend and whether they are realistic or whether we need to go back and rethink the priors. Simulating from the generative model also gives us simulated data for which we know the true parameter values. We can then use this simulated data to carry out the same inference procedures we would run on real data to test whether we can accurately recover the true parameter values. This gives us confidence that when we run it on real data we can trust the parameter values we get."
   ]
  },
  {
   "cell_type": "code",
   "execution_count": 150,
   "metadata": {
    "slideshow": {
     "slide_type": "fragment"
    }
   },
   "outputs": [],
   "source": [
    "model_data={\n",
    "    'N':len(data['year'][data['year']>1980]),\n",
    "    'co':data['mean'][data['year']>1980],\n",
    "    'co_sig':data['unc'][data['year']>1980],\n",
    "    'year':data['year'][data['year']>1980]-1980.0,\n",
    "    'fit':0\n",
    "}"
   ]
  },
  {
   "cell_type": "code",
   "execution_count": 151,
   "metadata": {
    "slideshow": {
     "slide_type": "subslide"
    }
   },
   "outputs": [],
   "source": [
    "fit=sm.sampling(data=model_data,chains=4,iter=1000,seed=194838)"
   ]
  },
  {
   "cell_type": "code",
   "execution_count": 152,
   "metadata": {
    "slideshow": {
     "slide_type": "fragment"
    }
   },
   "outputs": [
    {
     "data": {
      "text/plain": [
       "Inference for Stan model: anon_model_94b0321ffd8a6e386872166709a013f4.\n",
       "4 chains, each with iter=1000; warmup=500; thin=1; \n",
       "post-warmup draws per chain=500, total post-warmup draws=2000.\n",
       "\n",
       "              mean se_mean     sd   2.5%    25%    50%    75%  97.5%  n_eff   Rhat\n",
       "alpha       339.85     0.5  20.19 300.53 326.29 339.66 353.47 379.22   1623    1.0\n",
       "beta         -0.01    0.09   3.86  -7.45  -2.79  -0.05   2.64   7.36   2016    1.0\n",
       "co_pred[1]  339.83    0.51  20.66 299.83 326.39 339.83 353.77 380.63   1648    1.0\n",
       "co_pred[2]  339.83    0.53   21.8 298.46 325.43 339.54 354.21 383.89   1690    1.0\n",
       "co_pred[3]  339.82    0.56  23.53 294.56 324.46 339.14 355.18 388.11   1739    1.0\n",
       "co_pred[4]  339.81    0.61  25.72 290.23 322.38 338.92 356.53 392.79   1787    1.0\n",
       "co_pred[5]  339.79    0.66  28.28 284.72 320.82 338.95 358.64 397.33   1830    1.0\n",
       "co_pred[6]  339.78    0.72   31.1 280.07 318.58 338.72 360.11 402.26   1867    1.0\n",
       "co_pred[7]  339.77    0.78  34.12 273.69 316.24 338.61 362.02 408.69   1895    1.0\n",
       "co_pred[8]  339.75    0.85   37.3 268.96 313.57 338.41 365.16 415.93   1919    1.0\n",
       "co_pred[9]  339.75    0.92   40.6 263.87 311.25 338.57 367.48 422.17   1937    1.0\n",
       "co_pred[10] 339.73     1.0  43.98 256.75 308.97 338.65 370.08 428.52   1952    1.0\n",
       "co_pred[11] 339.72    1.07  47.45 251.07 306.55  339.0 372.63 435.56   1964    1.0\n",
       "co_pred[12] 339.71    1.15  50.96 244.99  304.3 338.85 375.19 442.58   1973    1.0\n",
       "co_pred[13] 339.69    1.23  54.53  238.9 302.11 339.03 377.61 449.83   1981    1.0\n",
       "co_pred[14] 339.68     1.3  58.12 232.04 299.73 338.66 379.36 456.45   1987    1.0\n",
       "co_pred[15] 339.67    1.38  61.76 225.02 297.84 338.44 382.42 463.37   1992    1.0\n",
       "co_pred[16] 339.66    1.46  65.41 217.46 294.86 338.81  384.1 469.28   1996    1.0\n",
       "co_pred[17] 339.65    1.55  69.09 210.52 291.69  338.8 386.85  476.4   2000    1.0\n",
       "co_pred[18] 339.64    1.63  72.79 203.44 289.18 339.13 389.62 484.45   2003    1.0\n",
       "co_pred[19] 339.63    1.71   76.5 195.85 286.69 339.27 392.02 491.82   2005    1.0\n",
       "co_pred[20] 339.61    1.79  80.23 188.67  283.9 339.16 394.58  498.6   2007    1.0\n",
       "co_pred[21]  339.6    1.87  83.96 181.78 281.72 339.05 397.66 505.01   2009    1.0\n",
       "co_pred[22] 339.59    1.96  87.71 173.94 278.55 338.53  400.6 511.98   2010    1.0\n",
       "co_pred[23] 339.57    2.04  91.47 166.95 275.28 338.41 403.38 518.77   2012    1.0\n",
       "co_pred[24] 339.57    2.12  95.24 159.62 272.74 338.85 405.92 526.05   2013    1.0\n",
       "co_pred[25] 339.55    2.21  99.01  152.1 270.76 339.07 408.49 533.25   2014    1.0\n",
       "co_pred[26] 339.54    2.29 102.79 144.79 267.85 339.08 411.15 540.17   2015    1.0\n",
       "co_pred[27] 339.52    2.37 106.57 137.45 265.09 338.86 413.79  547.7   2015    1.0\n",
       "co_pred[28] 339.52    2.46 110.36 130.28 262.95 339.08 415.98 555.11   2016    1.0\n",
       "co_pred[29]  339.5    2.54 114.15 122.82 260.68 339.31 419.08 562.49   2017    1.0\n",
       "co_pred[30] 339.49    2.63 117.95 115.05  257.6 339.65 422.04 569.45   2017    1.0\n",
       "co_pred[31] 339.48    2.71 121.75 107.04 254.65 339.66 424.32 576.35   2017    1.0\n",
       "co_pred[32] 339.47     2.8 125.56  99.31 251.81 339.82 427.15  583.8   2018    1.0\n",
       "co_pred[33] 339.46    2.88 129.37  91.62  248.9 339.92 429.32 591.17   2018    1.0\n",
       "co_pred[34] 339.44    2.96 133.18  83.98 245.94 339.25 432.32 598.04   2018    1.0\n",
       "co_pred[35] 339.43    3.05 136.99   76.7 243.29 338.99 434.79 604.96   2019    1.0\n",
       "co_pred[36] 339.42    3.13  140.8  69.57 240.31 338.82 437.23 612.19   2019    1.0\n",
       "co_pred[37] 339.41    3.22 144.62  62.57 237.56 338.94 439.71 619.57   2019    1.0\n",
       "co_pred[38]  339.4     3.3 148.44   55.7 234.56 338.86 442.37 627.62   2019    1.0\n",
       "lp__         -0.97    0.03   0.94  -3.55  -1.35  -0.68  -0.29  -0.03   1041    1.0\n",
       "\n",
       "Samples were drawn using NUTS at Wed Jul 17 12:21:04 2019.\n",
       "For each parameter, n_eff is a crude measure of effective sample size,\n",
       "and Rhat is the potential scale reduction factor on split chains (at \n",
       "convergence, Rhat=1)."
      ]
     },
     "execution_count": 152,
     "metadata": {},
     "output_type": "execute_result"
    }
   ],
   "source": [
    "fit"
   ]
  },
  {
   "cell_type": "markdown",
   "metadata": {
    "slideshow": {
     "slide_type": "notes"
    }
   },
   "source": [
    "* $\\hat{R}$ compares variation within and between chains. You want $\\hat{R} < 1.1$\n",
    "* The amount by which autocorrelation within the chains increases uncertainty in estimates can be measured by effective sample size, $n_{eff}$. Typical MCMC has a low $n_{eff}$ and requires thinning (as to keep all samples would be too memory intensive). Since Stan is efficient, no need to chuck samples away. If $n_{eff} / N < 0.001$, then there is a problem with model"
   ]
  },
  {
   "cell_type": "code",
   "execution_count": 153,
   "metadata": {
    "slideshow": {
     "slide_type": "subslide"
    }
   },
   "outputs": [
    {
     "name": "stderr",
     "output_type": "stream",
     "text": [
      "INFO:pystan:n_eff / iter looks reasonable for all parameters\n",
      "INFO:pystan:Rhat looks reasonable for all parameters\n",
      "INFO:pystan:No divergent transitions found.\n",
      "INFO:pystan:No transitions that ended prematurely due to maximum tree depth limit\n",
      "INFO:pystan:Chain 1: E-BFMI (= 1.17) equals or exceeds threshold of 0.2.\n",
      "INFO:pystan:Chain 2: E-BFMI (= 1.24) equals or exceeds threshold of 0.2.\n",
      "INFO:pystan:Chain 3: E-BFMI (= 1.26) equals or exceeds threshold of 0.2.\n",
      "INFO:pystan:Chain 4: E-BFMI (= 1.18) equals or exceeds threshold of 0.2.\n",
      "INFO:pystan:E-BFMI indicated no pathological behavior\n"
     ]
    },
    {
     "data": {
      "text/plain": [
       "{'n_eff': True,\n",
       " 'Rhat': True,\n",
       " 'divergence': True,\n",
       " 'treedepth': True,\n",
       " 'energy': True}"
      ]
     },
     "execution_count": 153,
     "metadata": {},
     "output_type": "execute_result"
    }
   ],
   "source": [
    "pystan.diagnostics.check_hmc_diagnostics(fit,verbose=3)"
   ]
  },
  {
   "cell_type": "markdown",
   "metadata": {
    "slideshow": {
     "slide_type": "subslide"
    }
   },
   "source": [
    "*Divergent transitions*:Critical warning. Step size is too large. Try fixing by increasing `adapt_delta` e.g. `fit=sm.sampling(data=data,control=dict(adapt_delta=0.9)`\n",
    "\n",
    "*Maximum Tree depth*: Not as critical. A detail specific to NUTS algorithm. Fix by increasing tree depth e.g. `fit=sm.sampling(data=data,control=dict(max_treedepth=15)`\n",
    "\n",
    "*BFMI low*: Bayesian Fraction of Missing Information. Adaptation phase of the Markov Chains did not turn out well and those chains likely did not explore the posterior distribution efficiently. Can try running for more iterations, but probably need to re-parameterise model.\n",
    "\n",
    "\n",
    "Details on diagnostics are [here](https://mc-stan.org/misc/warnings.html). Good explanation for divergences can also be found [here](https://dev.to/martinmodrak/taming-divergences-in-stan-models-5762)"
   ]
  },
  {
   "cell_type": "markdown",
   "metadata": {
    "slideshow": {
     "slide_type": "subslide"
    }
   },
   "source": [
    "Prior distribution on parameters:"
   ]
  },
  {
   "cell_type": "code",
   "execution_count": 154,
   "metadata": {
    "slideshow": {
     "slide_type": "fragment"
    }
   },
   "outputs": [
    {
     "name": "stderr",
     "output_type": "stream",
     "text": [
      "/opt/conda/lib/python3.7/site-packages/matplotlib/contour.py:1000: UserWarning: The following kwargs were not used by contour: 'normed'\n",
      "  s)\n"
     ]
    },
    {
     "data": {
      "text/plain": [
       "<seaborn.axisgrid.PairGrid at 0x7ffaec2e0a90>"
      ]
     },
     "execution_count": 154,
     "metadata": {},
     "output_type": "execute_result"
    },
    {
     "data": {
      "image/png": "[encoded data removed]",
      "text/plain": [
       "<Figure size 360x360 with 6 Axes>"
      ]
     },
     "metadata": {
      "needs_background": "light"
     },
     "output_type": "display_data"
    }
   ],
   "source": [
    "tri=sns.PairGrid(pd.DataFrame(np.vstack((fit['alpha'],fit['beta'])).T,columns=[r'$\\alpha$',r'$\\beta$']))\n",
    "tri.map_diag(plt.hist)\n",
    "tri.map_lower(sns.kdeplot,shade=True,shade_lowest=False,cmap=\"Blues_d\",alpha=0.3,n_levels=10,normed=True)\n",
    "tri.map_upper(plt.scatter,alpha=0.5)\n"
   ]
  },
  {
   "cell_type": "markdown",
   "metadata": {
    "slideshow": {
     "slide_type": "subslide"
    }
   },
   "source": [
    "Lets look at Prior predicitive distribution"
   ]
  },
  {
   "cell_type": "code",
   "execution_count": 163,
   "metadata": {
    "slideshow": {
     "slide_type": "fragment"
    }
   },
   "outputs": [
    {
     "data": {
      "text/plain": [
       "Text(0.5, 0, 'Year')"
      ]
     },
     "execution_count": 163,
     "metadata": {},
     "output_type": "execute_result"
    },
    {
     "data": {
      "image/png": "[encoded data removed]",
      "text/plain": [
       "<Figure size 432x288 with 1 Axes>"
      ]
     },
     "metadata": {
      "needs_background": "light"
     },
     "output_type": "display_data"
    }
   ],
   "source": [
    "x=data['year'][data['year']>1980]\n",
    "for i in range(0,1000,10):\n",
    "    plt.plot(x,fit['co_pred'][i,:],'b',alpha=0.2)\n",
    "plt.plot(x,fit.data['co'],'r')\n",
    "plt.ylabel(r'CO$_2$ ppm');\n",
    "plt.xlabel('Year')"
   ]
  },
  {
   "cell_type": "markdown",
   "metadata": {
    "slideshow": {
     "slide_type": "subslide"
    }
   },
   "source": [
    "### Fit the Simulated Observations and Evaluate\n",
    "* Test ability to fit model (testing fitting algorithms)\n",
    "* Fit samples from the prior predicitive distribution\n",
    "* Compare Posterior probabillity distribution with truth\n"
   ]
  },
  {
   "cell_type": "markdown",
   "metadata": {
    "slideshow": {
     "slide_type": "notes"
    }
   },
   "source": [
    "We have generated a sample of simulated observations from our generative model. To test our ability to draw inferences with the model when using real data, we can attempt to fit each of these simulated observations and construct a posterior distribution on the parameters of interest. The advantage of fitting simulated results is we know the truth and so we can compare the posterior probability distributions coming from the inference with the true values. Lets start with fitting one sample from our simulated observations."
   ]
  },
  {
   "cell_type": "code",
   "execution_count": 203,
   "metadata": {
    "slideshow": {
     "slide_type": "subslide"
    }
   },
   "outputs": [
    {
     "data": {
      "image/png": "[encoded data removed]",
      "text/plain": [
       "<Figure size 432x288 with 1 Axes>"
      ]
     },
     "metadata": {
      "needs_background": "light"
     },
     "output_type": "display_data"
    }
   ],
   "source": [
    "s=5\n",
    "plt.errorbar(fit.data['year']+1980,fit['co_pred'][s,:],fit.data['co_sig'],fmt='o',label='Predicited data')\n",
    "plt.plot(fit.data['year']+1980,fit.data['year']*fit['beta'][s]+fit['alpha'][s],'r',label='Model')\n",
    "plt.ylabel(r'CO$_2$ ppm');\n",
    "plt.xlabel('Year');\n",
    "plt.legend();"
   ]
  },
  {
   "cell_type": "code",
   "execution_count": 204,
   "metadata": {
    "slideshow": {
     "slide_type": "subslide"
    }
   },
   "outputs": [],
   "source": [
    "data_samp={\n",
    "    'N':len(data['year'][data['year']>1980]),\n",
    "    'co':fit['co_pred'][s,:],\n",
    "    'co_sig':data['unc'][data['year']>1980],\n",
    "    'year':data['year'][data['year']>1980]-1980.0,\n",
    "    'fit':1\n",
    "}"
   ]
  },
  {
   "cell_type": "code",
   "execution_count": 205,
   "metadata": {
    "slideshow": {
     "slide_type": "fragment"
    }
   },
   "outputs": [],
   "source": [
    "fit_samp=sm.sampling(data=data_samp,chains=4,iter=1000,seed=10)"
   ]
  },
  {
   "cell_type": "code",
   "execution_count": 206,
   "metadata": {
    "slideshow": {
     "slide_type": "subslide"
    }
   },
   "outputs": [
    {
     "data": {
      "text/plain": [
       "Inference for Stan model: anon_model_94b0321ffd8a6e386872166709a013f4.\n",
       "4 chains, each with iter=1000; warmup=500; thin=1; \n",
       "post-warmup draws per chain=500, total post-warmup draws=2000.\n",
       "\n",
       "              mean se_mean     sd   2.5%    25%    50%    75%  97.5%  n_eff   Rhat\n",
       "alpha       367.66  1.9e-3   0.04 367.58 367.63 367.66 367.69 367.74    466    1.0\n",
       "beta         -0.19  7.8e-5 1.8e-3  -0.19  -0.19  -0.19  -0.19  -0.18    540    1.0\n",
       "co_pred[1]  367.48  3.3e-3   0.12 367.23 367.39 367.48 367.56 367.72   1451    1.0\n",
       "co_pred[2]  367.29  2.9e-3   0.12 367.05 367.21 367.29 367.37 367.54   1828    1.0\n",
       "co_pred[3]   367.1  3.3e-3   0.13 366.85 367.02  367.1 367.19 367.35   1527    1.0\n",
       "co_pred[4]  366.91  3.1e-3   0.13 366.66 366.82 366.91 366.99 367.15   1693    1.0\n",
       "co_pred[5]  366.73  3.1e-3   0.12 366.48 366.64 366.73 366.81 366.96   1579    1.0\n",
       "co_pred[6]  366.54  3.1e-3   0.13 366.29 366.45 366.54 366.62 366.78   1682    1.0\n",
       "co_pred[7]  366.35  3.1e-3   0.12  366.1 366.27 366.35 366.43 366.59   1630    1.0\n",
       "co_pred[8]  366.16  2.9e-3   0.12 365.92 366.08 366.17 366.24 366.39   1784    1.0\n",
       "co_pred[9]  365.98  2.7e-3   0.12 365.74  365.9 365.98 366.06 366.21   2030    1.0\n",
       "co_pred[10] 365.78  2.9e-3   0.12 365.53  365.7 365.79 365.87 366.02   1816    1.0\n",
       "co_pred[11]  365.6  2.9e-3   0.13 365.35 365.51  365.6 365.68 365.86   1964    1.0\n",
       "co_pred[12] 365.42  2.9e-3   0.12 365.18 365.33 365.41  365.5 365.66   1794    1.0\n",
       "co_pred[13] 365.23  2.9e-3   0.12 364.98 365.14 365.23 365.31 365.48   1813    1.0\n",
       "co_pred[14] 365.04  2.8e-3   0.12  364.8 364.96 365.04 365.12 365.29   1901    1.0\n",
       "co_pred[15] 364.86  2.9e-3   0.12 364.61 364.78 364.86 364.95  365.1   1893    1.0\n",
       "co_pred[16] 364.67  3.1e-3   0.12 364.43 364.58 364.67 364.75  364.9   1527    1.0\n",
       "co_pred[17] 364.48  2.7e-3   0.12 364.24  364.4 364.48 364.56  364.7   1944    1.0\n",
       "co_pred[18] 364.29  2.7e-3   0.12 364.05 364.21 364.29 364.37 364.53   1975    1.0\n",
       "co_pred[19]  364.1  2.9e-3   0.12 363.85 364.02 364.11 364.19 364.34   1807    1.0\n",
       "co_pred[20] 363.92  3.0e-3   0.12 363.68 363.84 363.92 363.99 364.16   1676    1.0\n",
       "co_pred[21] 363.73  2.7e-3   0.12 363.49 363.64 363.73 363.82 363.97   2086    1.0\n",
       "co_pred[22] 363.55  2.7e-3   0.12 363.31 363.47 363.54 363.63 363.78   2007    1.0\n",
       "co_pred[23] 363.36  2.7e-3   0.12 363.12 363.28 363.36 363.44  363.6   2066    1.0\n",
       "co_pred[24] 363.17  2.6e-3   0.12 362.94 363.09 363.17 363.25 363.39   2056    1.0\n",
       "co_pred[25] 362.98  2.9e-3   0.12 362.74  362.9 362.99 363.07 363.23   1788    1.0\n",
       "co_pred[26]  362.8  2.7e-3   0.12 362.56 362.71  362.8 362.88 363.03   1952    1.0\n",
       "co_pred[27] 362.61  2.7e-3   0.12 362.37 362.53 362.61 362.69 362.85   2091    1.0\n",
       "co_pred[28] 362.42  2.7e-3   0.12 362.18 362.35 362.42 362.51 362.67   2120    1.0\n",
       "co_pred[29] 362.23  2.8e-3   0.12 361.98 362.15 362.24 362.31 362.47   1951    1.0\n",
       "co_pred[30] 362.04  3.0e-3   0.12  361.8 361.96 362.04 362.13 362.27   1613    1.0\n",
       "co_pred[31] 361.86  3.0e-3   0.12 361.62 361.78 361.86 361.94 362.09   1662    1.0\n",
       "co_pred[32] 361.68  2.8e-3   0.12 361.45 361.59 361.67 361.76 361.92   1988    1.0\n",
       "co_pred[33] 361.48  2.7e-3   0.12 361.24  361.4 361.48 361.56 361.71   1923    1.0\n",
       "co_pred[34]  361.3  3.0e-3   0.13 361.06 361.22  361.3 361.39 361.56   1841    1.0\n",
       "co_pred[35] 361.11  3.3e-3   0.12 360.87 361.02 361.11  361.2 361.35   1464    1.0\n",
       "co_pred[36] 360.93  2.8e-3   0.12 360.68 360.84 360.93 361.01 361.17   2002    1.0\n",
       "co_pred[37] 360.74  2.9e-3   0.13 360.49 360.65 360.74 360.83 360.98   1905    1.0\n",
       "co_pred[38] 360.55  2.9e-3   0.13  360.3 360.47 360.55 360.64  360.8   1912    1.0\n",
       "lp__        -18.93    0.05   1.03  -21.8 -19.32 -18.64 -18.21  -17.9    520   1.01\n",
       "\n",
       "Samples were drawn using NUTS at Wed Jul 17 14:42:47 2019.\n",
       "For each parameter, n_eff is a crude measure of effective sample size,\n",
       "and Rhat is the potential scale reduction factor on split chains (at \n",
       "convergence, Rhat=1)."
      ]
     },
     "execution_count": 206,
     "metadata": {},
     "output_type": "execute_result"
    }
   ],
   "source": [
    "fit_samp"
   ]
  },
  {
   "cell_type": "code",
   "execution_count": 207,
   "metadata": {},
   "outputs": [
    {
     "data": {
      "text/plain": [
       "{'n_eff': True,\n",
       " 'Rhat': True,\n",
       " 'divergence': True,\n",
       " 'treedepth': True,\n",
       " 'energy': True}"
      ]
     },
     "execution_count": 207,
     "metadata": {},
     "output_type": "execute_result"
    }
   ],
   "source": [
    "pystan.diagnostics.check_hmc_diagnostics(fit_samp)"
   ]
  },
  {
   "cell_type": "code",
   "execution_count": 208,
   "metadata": {},
   "outputs": [
    {
     "name": "stderr",
     "output_type": "stream",
     "text": [
      "/opt/conda/lib/python3.7/site-packages/matplotlib/contour.py:1000: UserWarning: The following kwargs were not used by contour: 'normed'\n",
      "  s)\n"
     ]
    },
    {
     "data": {
      "text/plain": [
       "(367.350343068253, 367.950343068253)"
      ]
     },
     "execution_count": 208,
     "metadata": {},
     "output_type": "execute_result"
    },
    {
     "data": {
      "image/png": "[encoded data removed]",
      "text/plain": [
       "<Figure size 360x360 with 6 Axes>"
      ]
     },
     "metadata": {
      "needs_background": "light"
     },
     "output_type": "display_data"
    }
   ],
   "source": [
    "tri=sns.PairGrid(pd.DataFrame(np.vstack((fit_samp['alpha'],fit_samp['beta'])).T,columns=[r'$\\alpha$',r'$\\beta$']))\n",
    "tri.map_diag(plt.hist,alpha=0.3,color='red')\n",
    "tri.map_lower(sns.kdeplot,shade=True,shade_lowest=False,cmap=\"Reds_d\",alpha=0.3,n_levels=10,normed=True)\n",
    "tri.map_upper(plt.scatter,alpha=0.5,color='red')\n",
    "\n",
    "#g.axes[0,1].set_axis_off()\n",
    "tri.axes[0,0].axvline(x=fit['alpha'][s],color='g')\n",
    "tri.axes[1,0].axvline(x=fit['alpha'][s],color='g')\n",
    "tri.axes[1,0].axhline(y=fit['beta'][s],color='g')\n",
    "tri.axes[1,1].axvline(x=fit['beta'][s],color='g')\n",
    "tri.axes[0,1].axvline(x=fit['beta'][s],color='g')\n",
    "tri.axes[0,1].axhline(y=fit['alpha'][s],color='g')\n",
    "\n",
    "#tri.data=(pd.DataFrame(np.vstack((fit['alpha'],fit['beta'])).T,columns=[r'$\\alpha$',r'$\\beta$']))\n",
    "#tri.map_diag(plt.hist,color='blue',alpha=0.1)\n",
    "#tri.map_lower(sns.kdeplot,shade=True,shade_lowest=False,cmap=\"Blues_d\",alpha=0.3,n_levels=10,normed=True)\n",
    "#tri.map_upper(plt.scatter,alpha=0.5,color='blue')\n",
    "\n",
    "tri.axes[1,0].set_xlim(fit['alpha'][s]-0.3,fit['alpha'][s]+0.3)\n"
   ]
  },
  {
   "cell_type": "markdown",
   "metadata": {
    "slideshow": {
     "slide_type": "notes"
    }
   },
   "source": [
    "When analysing posterior probability distributions for model parameters, it is good practise to do so alongside the prior distribution. This allows us to visualise whether we are gaining much information from the data, beyond our prior knowledge."
   ]
  },
  {
   "cell_type": "markdown",
   "metadata": {
    "slideshow": {
     "slide_type": "subslide"
    }
   },
   "source": [
    "Lets plot replicated data from our model fit, and compare to fitted data"
   ]
  },
  {
   "cell_type": "code",
   "execution_count": 215,
   "metadata": {
    "slideshow": {
     "slide_type": "fragment"
    }
   },
   "outputs": [
    {
     "data": {
      "text/plain": [
       "[<matplotlib.lines.Line2D at 0x7ffadae645f8>]"
      ]
     },
     "execution_count": 215,
     "metadata": {},
     "output_type": "execute_result"
    },
    {
     "data": {
      "image/png": "[encoded data removed]",
      "text/plain": [
       "<Figure size 1080x540 with 1 Axes>"
      ]
     },
     "metadata": {
      "needs_background": "light"
     },
     "output_type": "display_data"
    }
   ],
   "source": [
    "plt.figure(figsize=(15,7.5))\n",
    "plt.violinplot(fit_samp['co_pred'],positions=x,showextrema=False);\n",
    "plt.plot(x,fit['co_pred'][s,:],'o')\n",
    "plt.ylabel(r'CO$_2$ ppm');\n",
    "plt.xlabel('Year');"
   ]
  },
  {
   "cell_type": "markdown",
   "metadata": {
    "slideshow": {
     "slide_type": "subslide"
    }
   },
   "source": [
    "### Evaluate Prior-Posterior Consistency\n",
    "\n",
    "We have fitted one sample. To be confident our chosen fitting algorithm works for all possible values (i.e. within Prior) we should fit *many* samples"
   ]
  },
  {
   "cell_type": "markdown",
   "metadata": {
    "slideshow": {
     "slide_type": "notes"
    }
   },
   "source": [
    " To check the model and our inference technique (i.e. the algorithm used to fit the data) is perfoming appropriately, you can carry out simulated-based calibration. This involved fitting each prior sample as if it were data. The posterior distributions on the fits should look like the prior. This approach checks this is correct. If everything is working, the plots below for each parameter should be uniform.\n",
    " \n",
    "For details, see [Talts et al. 2018](https://arxiv.org/pdf/1804.06788) and [Michael Betancourt's case study](https://betanalpha.github.io/assets/case_studies/principled_bayesian_workflow.html#22_computational_faithfulness)\n"
   ]
  },
  {
   "cell_type": "code",
   "execution_count": 246,
   "metadata": {},
   "outputs": [],
   "source": [
    "samples=[]\n",
    "n_samp=100\n",
    "alpha_cal=np.empty(n_samp)\n",
    "beta_cal=np.empty(n_samp)\n",
    "for s in range(0,n_samp):\n",
    "    #set data to one of the samples\n",
    "    data_samp={\n",
    "    'N':len(data['year'][data['year']>1980]),\n",
    "    'co':fit['co_pred'][s,:],\n",
    "    'co_sig':data['unc'][data['year']>1980],\n",
    "    'year':data['year'][data['year']>1980]-1980.0,\n",
    "    'fit':1\n",
    "    }\n",
    "    #fit the data\n",
    "    fit_tmp=sm.sampling(data=data_samp,chains=4,iter=1000,seed=10)\n",
    "    #append samples to list\n",
    "    samples.append(pd.DataFrame(np.vstack((fit_tmp['alpha'],fit_tmp['beta'])).T,columns=['alpha','beta']))\n",
    "    #carry out calibration statistic\n",
    "    alpha_cal[s]=np.sum(fit_tmp['alpha']<fit['alpha'][s])\n",
    "    beta_cal[s]=np.sum(fit_tmp['beta']<fit['beta'][s])\n",
    "    \n",
    "samples=pd.concat(samples)"
   ]
  },
  {
   "cell_type": "code",
   "execution_count": 248,
   "metadata": {},
   "outputs": [
    {
     "data": {
      "image/png": "[encoded data removed]",
      "text/plain": [
       "<Figure size 720x720 with 4 Axes>"
      ]
     },
     "metadata": {
      "needs_background": "light"
     },
     "output_type": "display_data"
    }
   ],
   "source": [
    "plt.figure(figsize=(10,10))\n",
    "plt.subplot(2,2,1)\n",
    "plt.hist(samples['alpha'],density=True,alpha=0.5,label='Posterior');\n",
    "plt.hist(fit['alpha'],density=True,alpha=0.5,label='Prior');\n",
    "plt.xlabel(r'$\\alpha$');\n",
    "plt.subplot(2,2,2)\n",
    "plt.hist(samples['beta'],density=True,alpha=0.5,label='Posterior');\n",
    "plt.hist(fit['beta'],density=True,alpha=0.5,label='Prior');\n",
    "plt.xlabel(r'$\\beta$');\n",
    "plt.subplot(2,2,3)\n",
    "plt.hist(alpha_cal)\n",
    "plt.xlabel('Rank Statistic')\n",
    "plt.subplot(2,2,4)\n",
    "plt.hist(beta_cal)\n",
    "plt.xlabel('Rank Statistic')\n",
    "plt.subplots_adjust(hspace=0.5)"
   ]
  },
  {
   "cell_type": "markdown",
   "metadata": {
    "slideshow": {
     "slide_type": "subslide"
    }
   },
   "source": [
    "### Analyse Posterior Behaviours\n",
    "\n",
    "**Z score**\n",
    "$$z=|(\\mu_{post}-\\theta_{true})/\\sigma_{post}|$$\n",
    "\n",
    "how accurately the posterior recovers ground truth and whether there is any bias. Close to zero indicate more accurate, less biased posteriors.\n",
    "\n",
    "**Posterior Shrinkage**\n",
    "$$s=1-\\sigma^2_{post}/\\sigma^2_{prior}$$\n",
    "\n",
    "quantifies how much the posterior learns from a given observation. Close to zero indicates dominated by prior, close to one indicates dominated by data."
   ]
  },
  {
   "cell_type": "markdown",
   "metadata": {
    "slideshow": {
     "slide_type": "notes"
    }
   },
   "source": [
    "Assuming that we are accurately recovering posteriors across all of the simulated observations then we can proceed to analyse the range of behaviors in these posteriors. For example, the posterior z-score of a given parameter,\n",
    "\n",
    "$$z=|(\\mu_{post}-\\theta_{true})/\\sigma_{post}|$$\n",
    "\n",
    "quantifies how accurately the posterior recovers the ground truth and whether there is any bias. Values close to zero indicate more accurate, less biased posteriors.\n",
    "\n",
    "At the same time the posterior shrinkage,\n",
    "\n",
    "$$s=1-\\sigma^2_{post}/\\sigma^2_{prior}$$\n",
    "\n",
    "quantifies how much the posterior learns from a given observation. Our visualisation of the posterior and prior for $\\alpha$ and $\\beta$ had already indicated that the inference had given us information on both parameters. Shrinkage allows us to quantify this. A value near zero indicates that the data provide little information beyond that encoded in the prior distribution while shrinkage near one indicates highly informative observations.\n"
   ]
  },
  {
   "cell_type": "markdown",
   "metadata": {
    "slideshow": {
     "slide_type": "subslide"
    }
   },
   "source": [
    "<img src=\"./assets/sensitivity.png\" alt=\"Drawing\" style=\"width: 600px;\"/>"
   ]
  },
  {
   "cell_type": "code",
   "execution_count": 259,
   "metadata": {
    "slideshow": {
     "slide_type": "subslide"
    }
   },
   "outputs": [],
   "source": [
    "def zscore(posterior, truth):\n",
    "    return np.abs((np.mean(posterior)-truth)/np.std(posterior))\n",
    "def shrinkage(posterior,prior):\n",
    "    return 1-(np.var(posterior)/np.var(prior))\n",
    "n_post_samps=int(len(samples)/n_samp)\n",
    "\n",
    "z_score_array=np.empty((2,n_samp))\n",
    "shrinkage_array=np.empty((2,n_samp))\n",
    "for i in range(0,n_samp):\n",
    "    z_score_array[0,i]=zscore(samples['alpha'][i*n_post_samps:(i+1)*n_post_samps],fit['alpha'][i])\n",
    "    z_score_array[1,i]=zscore(samples['beta'][i*n_post_samps:(i+1)*n_post_samps],fit['beta'][i])\n",
    "    shrinkage_array[0,i]=shrinkage(samples['alpha'][i*n_post_samps:(i+1)*n_post_samps],fit['alpha'])\n",
    "    shrinkage_array[1,i]=shrinkage(samples['beta'][i*n_post_samps:(i+1)*n_post_samps],fit['beta'])"
   ]
  },
  {
   "cell_type": "code",
   "execution_count": 281,
   "metadata": {
    "slideshow": {
     "slide_type": "subslide"
    }
   },
   "outputs": [
    {
     "data": {
      "image/png": "[encoded data removed]",
      "text/plain": [
       "<Figure size 360x360 with 6 Axes>"
      ]
     },
     "metadata": {
      "needs_background": "light"
     },
     "output_type": "display_data"
    }
   ],
   "source": [
    "g=sns.PairGrid(pd.DataFrame(np.vstack((shrinkage_array[0,:],z_score_array[0,:])).T,columns=['Shrinkage','Zscore']))\n",
    "g.map_diag(plt.hist,color='blue',alpha=0.5,bins=np.arange(0,5,0.1))\n",
    "g.map_lower(plt.scatter,color='blue',alpha=0.5)\n",
    "g.data=pd.DataFrame(np.vstack((shrinkage_array[1,:],z_score_array[1,:])).T,columns=['Shrinkage','Zscore'])\n",
    "g.map_diag(plt.hist,color='red',alpha=0.5,bins=np.arange(0,5,0.1))\n",
    "g.map_lower(plt.scatter,color='red',alpha=0.5)\n",
    "g.axes[1,0].set_xlim(0,1.2)\n",
    "g.axes[0,1].set_axis_off()"
   ]
  },
  {
   "cell_type": "markdown",
   "metadata": {
    "slideshow": {
     "slide_type": "slide"
    }
   },
   "source": [
    "## Model Inference\n",
    "Having satisfied ourselves that model is behaving as we expect, lets fit our model to observational data"
   ]
  },
  {
   "cell_type": "code",
   "execution_count": 282,
   "metadata": {
    "slideshow": {
     "slide_type": "subslide"
    }
   },
   "outputs": [],
   "source": [
    "model_data={\n",
    "    'N':len(data['year'][data['year']>1980]),\n",
    "    'co':data['mean'][data['year']>1980],\n",
    "    'co_sig':data['unc'][data['year']>1980],\n",
    "    'year':data['year'][data['year']>1980]-1980.0,\n",
    "    'fit':1\n",
    "}"
   ]
  },
  {
   "cell_type": "code",
   "execution_count": 286,
   "metadata": {
    "slideshow": {
     "slide_type": "fragment"
    }
   },
   "outputs": [],
   "source": [
    "fit_obs=sm.sampling(data=model_data,chains=4,iter=1000,seed=194838)"
   ]
  },
  {
   "cell_type": "code",
   "execution_count": 287,
   "metadata": {
    "slideshow": {
     "slide_type": "subslide"
    }
   },
   "outputs": [
    {
     "data": {
      "text/plain": [
       "Inference for Stan model: anon_model_94b0321ffd8a6e386872166709a013f4.\n",
       "4 chains, each with iter=1000; warmup=500; thin=1; \n",
       "post-warmup draws per chain=500, total post-warmup draws=2000.\n",
       "\n",
       "              mean se_mean     sd   2.5%    25%    50%    75%  97.5%  n_eff   Rhat\n",
       "alpha        335.5  2.0e-3   0.04 335.42 335.47  335.5 335.53 335.57    401    1.0\n",
       "beta          1.82  8.4e-5 1.8e-3   1.82   1.82   1.82   1.82   1.82    442    1.0\n",
       "co_pred[1]  337.32  3.1e-3   0.12 337.08 337.24 337.32 337.41 337.57   1540    1.0\n",
       "co_pred[2]  339.14  3.1e-3   0.12  338.9 339.05 339.14 339.22 339.37   1646    1.0\n",
       "co_pred[3]  340.96  2.9e-3   0.12 340.73 340.88 340.96 341.04  341.2   1771    1.0\n",
       "co_pred[4]  342.78  3.0e-3   0.13 342.54  342.7 342.78 342.87 343.02   1783    1.0\n",
       "co_pred[5]   344.6  2.7e-3   0.12 344.37 344.52  344.6 344.69 344.83   1962    1.0\n",
       "co_pred[6]  346.42  3.0e-3   0.13 346.18 346.33 346.42  346.5 346.67   1777    1.0\n",
       "co_pred[7]  348.24  2.9e-3   0.12  348.0 348.15 348.24 348.32 348.49   1824    1.0\n",
       "co_pred[8]  350.06  3.2e-3   0.13 349.82 349.98 350.06 350.15 350.31   1594    1.0\n",
       "co_pred[9]  351.88  3.0e-3   0.13 351.63  351.8 351.88 351.97 352.14   1841    1.0\n",
       "co_pred[10]  353.7  2.8e-3   0.12 353.45 353.62  353.7 353.79 353.93   1961    1.0\n",
       "co_pred[11] 355.52  2.9e-3   0.12 355.28 355.44 355.53 355.61 355.77   1804    1.0\n",
       "co_pred[12] 357.35  3.2e-3   0.12 357.11 357.26 357.35 357.43 357.58   1510    1.0\n",
       "co_pred[13] 359.16  2.7e-3   0.12 358.92 359.08 359.17 359.25 359.39   1967    1.0\n",
       "co_pred[14] 360.99  2.8e-3   0.12 360.75 360.91 360.99 361.07 361.23   1993    1.0\n",
       "co_pred[15] 362.81  2.8e-3   0.12 362.56 362.72  362.8 362.89 363.04   1933    1.0\n",
       "co_pred[16] 364.62  2.8e-3   0.12 364.39 364.54 364.62 364.71 364.86   1922    1.0\n",
       "co_pred[17] 366.44  3.0e-3   0.12  366.2 366.36 366.44 366.53 366.69   1675    1.0\n",
       "co_pred[18] 368.26  2.9e-3   0.12 368.03 368.18 368.26 368.34  368.5   1732    1.0\n",
       "co_pred[19] 370.08  2.8e-3   0.12 369.85  370.0 370.09 370.17 370.32   2002    1.0\n",
       "co_pred[20] 371.91  2.7e-3   0.12 371.66 371.82 371.91 371.99 372.15   2005    1.0\n",
       "co_pred[21] 373.72  2.7e-3   0.12  373.5 373.64 373.73  373.8 373.96   1912    1.0\n",
       "co_pred[22] 375.54  2.9e-3   0.12  375.3 375.46 375.54 375.63 375.78   1845    1.0\n",
       "co_pred[23] 377.37  2.7e-3   0.12 377.12 377.29 377.37 377.45  377.6   1980    1.0\n",
       "co_pred[24] 379.18  2.7e-3   0.12 378.95  379.1 379.18 379.27 379.41   1976    1.0\n",
       "co_pred[25]  381.0  2.7e-3   0.12 380.76 380.93 381.01 381.08 381.24   1936    1.0\n",
       "co_pred[26] 382.83  2.9e-3   0.12  382.6 382.74 382.83 382.91 383.07   1830    1.0\n",
       "co_pred[27] 384.65  2.9e-3   0.12  384.4 384.56 384.64 384.73 384.89   1771    1.0\n",
       "co_pred[28] 386.47  2.7e-3   0.12 386.22 386.39 386.47 386.55 386.71   1970    1.0\n",
       "co_pred[29] 388.29  2.8e-3   0.12 388.04 388.21 388.29 388.36 388.52   1875    1.0\n",
       "co_pred[30] 390.11  3.0e-3   0.13 389.87 390.02 390.11  390.2 390.36   1798    1.0\n",
       "co_pred[31] 391.92  2.9e-3   0.12 391.68 391.84 391.92 392.01 392.17   1800    1.0\n",
       "co_pred[32] 393.75  2.8e-3   0.12 393.51 393.67 393.76 393.83 393.99   1887    1.0\n",
       "co_pred[33] 395.57  2.9e-3   0.12 395.33 395.49 395.57 395.65 395.81   1854    1.0\n",
       "co_pred[34] 397.39  3.0e-3   0.13 397.13  397.3 397.39 397.47 397.63   1744    1.0\n",
       "co_pred[35] 399.21  2.9e-3   0.13 398.96 399.13 399.21 399.29 399.46   1886    1.0\n",
       "co_pred[36] 401.03  3.1e-3   0.13 400.78 400.94 401.03 401.12 401.28   1688    1.0\n",
       "co_pred[37] 402.85  2.9e-3   0.13 402.59 402.77 402.85 402.94 403.09   1832    1.0\n",
       "co_pred[38] 404.67  2.9e-3   0.13 404.41 404.58 404.67 404.75 404.91   1947    1.0\n",
       "lp__         -4552    0.05   1.04  -4555  -4552  -4552  -4551  -4551    503   1.01\n",
       "\n",
       "Samples were drawn using NUTS at Thu Jul 18 09:55:41 2019.\n",
       "For each parameter, n_eff is a crude measure of effective sample size,\n",
       "and Rhat is the potential scale reduction factor on split chains (at \n",
       "convergence, Rhat=1)."
      ]
     },
     "execution_count": 287,
     "metadata": {},
     "output_type": "execute_result"
    }
   ],
   "source": [
    "fit_obs"
   ]
  },
  {
   "cell_type": "markdown",
   "metadata": {
    "slideshow": {
     "slide_type": "subslide"
    }
   },
   "source": [
    "### Diagnostic tests"
   ]
  },
  {
   "cell_type": "code",
   "execution_count": 288,
   "metadata": {
    "slideshow": {
     "slide_type": "fragment"
    }
   },
   "outputs": [
    {
     "name": "stderr",
     "output_type": "stream",
     "text": [
      "INFO:pystan:n_eff / iter looks reasonable for all parameters\n",
      "INFO:pystan:Rhat looks reasonable for all parameters\n",
      "INFO:pystan:No divergent transitions found.\n",
      "INFO:pystan:No transitions that ended prematurely due to maximum tree depth limit\n",
      "INFO:pystan:Chain 1: E-BFMI (= 0.984) equals or exceeds threshold of 0.2.\n",
      "INFO:pystan:Chain 2: E-BFMI (= 1.29) equals or exceeds threshold of 0.2.\n",
      "INFO:pystan:Chain 3: E-BFMI (= 0.936) equals or exceeds threshold of 0.2.\n",
      "INFO:pystan:Chain 4: E-BFMI (= 1.06) equals or exceeds threshold of 0.2.\n",
      "INFO:pystan:E-BFMI indicated no pathological behavior\n"
     ]
    },
    {
     "data": {
      "text/plain": [
       "{'n_eff': True,\n",
       " 'Rhat': True,\n",
       " 'divergence': True,\n",
       " 'treedepth': True,\n",
       " 'energy': True}"
      ]
     },
     "execution_count": 288,
     "metadata": {},
     "output_type": "execute_result"
    }
   ],
   "source": [
    "pystan.diagnostics.check_hmc_diagnostics(fit_obs,verbose=3)"
   ]
  },
  {
   "cell_type": "markdown",
   "metadata": {
    "slideshow": {
     "slide_type": "slide"
    }
   },
   "source": [
    "## Model Checking"
   ]
  },
  {
   "cell_type": "code",
   "execution_count": 291,
   "metadata": {
    "slideshow": {
     "slide_type": "subslide"
    }
   },
   "outputs": [
    {
     "name": "stderr",
     "output_type": "stream",
     "text": [
      "/opt/conda/lib/python3.7/site-packages/matplotlib/contour.py:1000: UserWarning: The following kwargs were not used by contour: 'normed'\n",
      "  s)\n"
     ]
    },
    {
     "data": {
      "text/plain": [
       "<seaborn.axisgrid.PairGrid at 0x7ffad8022198>"
      ]
     },
     "execution_count": 291,
     "metadata": {},
     "output_type": "execute_result"
    },
    {
     "data": {
      "image/png": "[encoded data removed]",
      "text/plain": [
       "<Figure size 360x360 with 6 Axes>"
      ]
     },
     "metadata": {
      "needs_background": "light"
     },
     "output_type": "display_data"
    }
   ],
   "source": [
    "tri=sns.PairGrid(pd.DataFrame(np.vstack((fit_obs['alpha'],fit_obs['beta'])).T,columns=[r'$\\alpha$',r'$\\beta$']))\n",
    "tri.map_diag(plt.hist,alpha=0.3,color='red')\n",
    "tri.map_lower(sns.kdeplot,shade=True,shade_lowest=False,cmap=\"Reds_d\",alpha=0.3,n_levels=10,normed=True)\n",
    "tri.map_upper(plt.scatter,alpha=0.5,color='red')\n",
    "\n",
    "#g.axes[0,1].set_axis_off()\n",
    "\n",
    "#tri.data=(pd.DataFrame(np.vstack((fit['alpha'],fit['beta'])).T,columns=[r'$\\alpha$',r'$\\beta$']))\n",
    "#tri.map_diag(plt.hist,color='blue',alpha=0.1)\n",
    "#tri.map_lower(sns.kdeplot,shade=True,shade_lowest=False,cmap=\"Blues_d\",alpha=0.3,n_levels=10,normed=True)\n",
    "#tri.map_upper(plt.scatter,alpha=0.5,color='blue')\n",
    "\n",
    "#tri.axes[1,0].set_xlim(fit['alpha'][s]-0.3,fit['alpha'][s]+0.3)\n"
   ]
  },
  {
   "cell_type": "code",
   "execution_count": 292,
   "metadata": {
    "slideshow": {
     "slide_type": "subslide"
    }
   },
   "outputs": [
    {
     "data": {
      "image/png": "[encoded data removed]",
      "text/plain": [
       "<Figure size 1080x540 with 1 Axes>"
      ]
     },
     "metadata": {
      "needs_background": "light"
     },
     "output_type": "display_data"
    }
   ],
   "source": [
    "plt.figure(figsize=(15,7.5))\n",
    "plt.violinplot(fit_obs['co_pred'],positions=x,showextrema=False);\n",
    "plt.plot(x,fit.data['co'],'o')\n",
    "plt.ylabel(r'CO$_2$ ppm');\n",
    "plt.xlabel('Year');"
   ]
  },
  {
   "cell_type": "markdown",
   "metadata": {
    "slideshow": {
     "slide_type": "subslide"
    }
   },
   "source": [
    "### Posterior Predicitive Checks"
   ]
  },
  {
   "cell_type": "markdown",
   "metadata": {
    "slideshow": {
     "slide_type": "notes"
    }
   },
   "source": [
    "When examining goodness of fits, the typical method is to look at the residuals. i.e. $\\frac{data - model}{\\sigma}$. Because we have distribution of $y^{rep}$, we can do this in a more probabilisitic way using posterior predictive checks. For more information on posterior predictive checks, [Gelman et al. 1996](http://www.stat.columbia.edu/~gelman/research/published/A6n41.pdf) is a good starting point."
   ]
  },
  {
   "cell_type": "code",
   "execution_count": 298,
   "metadata": {
    "slideshow": {
     "slide_type": "subslide"
    }
   },
   "outputs": [
    {
     "name": "stderr",
     "output_type": "stream",
     "text": [
      "/opt/conda/lib/python3.7/site-packages/ipykernel_launcher.py:12: VisibleDeprecationWarning: Passing `normed=True` on non-uniform bins has always been broken, and computes neither the probability density function nor the probability mass function. The result is only correct if the bins are uniform, when density=True will produce the same result anyway. The argument will be removed in a future version of numpy.\n",
      "  if sys.path[0] == '':\n"
     ]
    },
    {
     "data": {
      "image/png": "[encoded data removed]",
      "text/plain": [
       "<Figure size 720x360 with 2 Axes>"
      ]
     },
     "metadata": {},
     "output_type": "display_data"
    }
   ],
   "source": [
    "import seaborn as sns\n",
    "import matplotlib as mpl\n",
    "sns.set_style(\"white\")\n",
    "\n",
    "fig=plt.figure(figsize=(10,5))\n",
    "\n",
    "\n",
    "# This is  the colormap I'd like to use.\n",
    "cm = sns.diverging_palette(220, 20, as_cmap=True)\n",
    "\n",
    "# Get the histogramp\n",
    "Y,X = np.histogram(fit_obs['co_pred'][:,0], 25, normed=1)\n",
    "#C = [cm(((x-X.min())/x_span)) for x in X]\n",
    "C = [cm(((((x-np.mean(fit_obs['co_pred'][:,0]))/np.std(fit_obs['co_pred'][:,0]))+6)/12.0)) for x in X]\n",
    "\n",
    "\n",
    "plt.bar(X[:-1],Y,color=C,width=X[1]-X[0])\n",
    "plt.xlabel('CO$_2$ in 1980')\n",
    "plt.ylabel('p(CO$_2$ in 1980)')\n",
    "plt.axvline(337.6, linestyle='--')\n",
    "plt.axvline(337.0,linestyle=':')\n",
    "plt.annotate('CO$_2$ in 1980 that \\n model cannot explain',xy=(337.55, 1),  xycoords='data',\n",
    "            xytext=(337.55, 3), textcoords='data',rotation='vertical',size='large')\n",
    "plt.annotate('too much CO$_2$ in model \\n compared to real CO$_2$ in 1980',xy=(337.01, 1),  xycoords='data',\n",
    "            xytext=(337.01, 3), textcoords='data',rotation='vertical',size='large')\n",
    "\n",
    "#ax1 = fig.add_axes([0.05, 0.80, 0.9, 0.15])\n",
    "ax1 = fig.add_axes([0.82, 0.15, 0.02, 0.7])\n",
    "\n",
    "norm = mpl.colors.Normalize(vmin=-6, vmax=6)\n",
    "cb1 = mpl.colorbar.ColorbarBase(ax1, cmap=cm,\n",
    "                                norm=norm,\n",
    "                                orientation='vertical')\n",
    "cb1.set_label('$\\sigma$')"
   ]
  },
  {
   "cell_type": "markdown",
   "metadata": {
    "slideshow": {
     "slide_type": "subslide"
    }
   },
   "source": [
    "We can calculate fraction of $y^{rep}$ samples above and below real CO$_2$ value. This is often referred to as the Bayesian P-value and is telling us what the probability is of drawing the real weight measurement, from our model which has been inferred on the data. This is tells us if the model is inconsistent with the data, given the uncertianties in parameters and data.\n",
    "\n",
    "* $\\sim 0.5$ (i.e. near the middle of the distribution) means our model is consistent with the data \n",
    "* $0.99$ or $0.01$ (i.e. in the tails) means the model is missing something.\n",
    "\n",
    "We can convert this to a typical '$\\sigma$' level, such that  $\\sigma < -3$ or $\\sigma > 3$ indicates a problem with the model."
   ]
  },
  {
   "cell_type": "markdown",
   "metadata": {
    "slideshow": {
     "slide_type": "notes"
    }
   },
   "source": [
    "For more information on posterior predictive checks, see:\n",
    "* [Bayesian Data Analysis](http://www.stat.columbia.edu/~gelman/book/)\n",
    "* [http://www.stat.columbia.edu/~gelman/research/published/philosophy.pdf](http://www.stat.columbia.edu/~gelman/research/published/philosophy.pdf)"
   ]
  },
  {
   "cell_type": "code",
   "execution_count": 306,
   "metadata": {
    "slideshow": {
     "slide_type": "subslide"
    }
   },
   "outputs": [],
   "source": [
    "def Bayes_P_value(rep_data,obs_data):\n",
    "    import scipy.stats as st\n",
    "    pval=np.empty_like(obs_data)\n",
    "    for i,d in enumerate(obs_data):\n",
    "        ind=rep_data[:,i]<d\n",
    "        pval[i]=st.norm.ppf(sum(ind)/rep_data.shape[0])\n",
    "    return pval\n",
    "pvalues=Bayes_P_value(fit_obs['co_pred'],fit_obs.data['co'])"
   ]
  },
  {
   "cell_type": "code",
   "execution_count": 307,
   "metadata": {
    "slideshow": {
     "slide_type": "fragment"
    }
   },
   "outputs": [
    {
     "data": {
      "text/plain": [
       "array([        inf,         inf,         inf,         inf,         inf,\n",
       "               inf,         inf,         inf,         inf,         inf,\n",
       "        0.6792176 ,        -inf,        -inf,        -inf,        -inf,\n",
       "              -inf,        -inf,        -inf,        -inf,        -inf,\n",
       "              -inf,        -inf,        -inf,        -inf,        -inf,\n",
       "              -inf,        -inf,        -inf,        -inf, -1.70069646,\n",
       "       -2.24140273,  0.82213512,         inf,         inf,         inf,\n",
       "               inf,         inf,         inf])"
      ]
     },
     "execution_count": 307,
     "metadata": {},
     "output_type": "execute_result"
    }
   ],
   "source": [
    "pvalues"
   ]
  },
  {
   "cell_type": "markdown",
   "metadata": {
    "slideshow": {
     "slide_type": "slide"
    }
   },
   "source": [
    "## Model Improvement\n",
    "What is wrong with our model?"
   ]
  }
 ],
 "metadata": {
  "celltoolbar": "Slideshow",
  "kernelspec": {
   "display_name": "Python 3",
   "language": "python",
   "name": "python3"
  },
  "language_info": {
   "codemirror_mode": {
    "name": "ipython",
    "version": 3
   },
   "file_extension": ".py",
   "mimetype": "text/x-python",
   "name": "python",
   "nbconvert_exporter": "python",
   "pygments_lexer": "ipython3",
   "version": "3.7.3"
  }
 },
 "nbformat": 4,
 "nbformat_minor": 2
}
